{
  "nbformat": 4,
  "nbformat_minor": 0,
  "metadata": {
    "colab": {
      "provenance": []
    },
    "kernelspec": {
      "name": "python3",
      "display_name": "Python 3"
    },
    "language_info": {
      "name": "python"
    }
  },
  "cells": [
    {
      "cell_type": "markdown",
      "source": [
        "2440050874 - Michael Julian"
      ],
      "metadata": {
        "id": "l_MKpRBJNjHl"
      }
    },
    {
      "cell_type": "code",
      "execution_count": null,
      "metadata": {
        "id": "4k8Kqm4aE1Kk"
      },
      "outputs": [],
      "source": [
        "import pandas as pd\n",
        "import seaborn as sns\n",
        "import numpy as np\n",
        "import matplotlib.pyplot as plt\n",
        "from scipy.stats import multivariate_normal"
      ]
    },
    {
      "cell_type": "code",
      "source": [
        "def e_step(X, means, covariance, density):\n",
        "  likelihood = np.zeros((10, 2))\n",
        "  resp = np.zeros((10, 2))\n",
        "\n",
        "  for i in range(2):\n",
        "    likelihood[:, i] = multivariate_normal.pdf(X, means[i], covariance[i], allow_singular=True)\n",
        "    resp[:, i] = density[i] * likelihood[:, i]\n",
        "  \n",
        "  log_likelihood = np.sum(np.log(np.sum(resp, axis=1)))\n",
        "  resp = resp / resp.sum(axis=1, keepdims=1)\n",
        "\n",
        "  return resp, log_likelihood\n",
        "\n",
        "\n",
        "def m_step(X, means, covariance, resp):\n",
        "\n",
        "  for i in range(2):\n",
        "    weight = resp[:, [i]]\n",
        "    total_weight = weight.sum()\n",
        "    means[i] = (X * weight).sum(axis=0) / total_weight\n",
        "    covariance[i] = np.cov(X.T, aweights=((weight/total_weight).flatten()), bias=True)\n",
        "  density = resp.mean(axis=0)\n",
        "  \n",
        "  return means, covariance, density"
      ],
      "metadata": {
        "id": "BYatm_Y2FOz7"
      },
      "execution_count": null,
      "outputs": []
    },
    {
      "cell_type": "code",
      "source": [
        "X = [[3, 8], [3, 6], [3, 4], [4, 7], [4, 5], [5, 5], [5, 1], [7, 4], [7, 3], [8, 5]]\n",
        "X = np.array(X)"
      ],
      "metadata": {
        "id": "_kqr-t2iFWpn"
      },
      "execution_count": null,
      "outputs": []
    },
    {
      "cell_type": "code",
      "source": [
        "means = np.array([[4, 6], [6.5, 3]])\n",
        "covariance = np.array([[[0.675, 0.9], [0.9, 1.3]], [[0.675, 0.825], [0.825, 1.3]]])\n",
        "density = np.array([5/10, 5/10])"
      ],
      "metadata": {
        "id": "KbztlBhlFajO"
      },
      "execution_count": null,
      "outputs": []
    },
    {
      "cell_type": "code",
      "source": [
        "iters = 3\n",
        "for i in range(iters):\n",
        "  print(f'\\n========================\\nITERATION [{i+1}]\\n========================')\n",
        "\n",
        "  responsibility, log_likelihood = e_step(X, means, covariance, density)\n",
        "  print(f\"---------------------------\\n> {i+1}.1. E-STEP...\")\n",
        "  print(f'\\n>> Log Likelihood: {log_likelihood}')\n",
        "  print('\\n>> Responsibility:')\n",
        "  print(responsibility)\n",
        "\n",
        "  means, covariance, density = m_step(X, means, covariance, responsibility)\n",
        "  print(f\"---------------------------\\n> {i+1}.2. M-STEP...\")\n",
        "  print('\\n>> Updated Means:')\n",
        "  print(means)\n",
        "  print('\\n>> Updated Covariances:')\n",
        "  print(covariance)\n",
        "  print('\\n>> Updated Density:')\n",
        "  print(density)\n",
        "  print('========================\\n')"
      ],
      "metadata": {
        "colab": {
          "base_uri": "https://localhost:8080/"
        },
        "id": "RAoAktCBFe6R",
        "outputId": "11f90309-bd77-40a1-aba3-3a6514ef3d25"
      },
      "execution_count": null,
      "outputs": [
        {
          "output_type": "stream",
          "name": "stdout",
          "text": [
            "\n",
            "========================\n",
            "ITERATION [1]\n",
            "========================\n",
            "---------------------------\n",
            "> 1.1. E-STEP...\n",
            "\n",
            ">> Log Likelihood: -124.50464701054486\n",
            "\n",
            ">> Responsibility:\n",
            "[[1.00000000e+000 1.55255048e-044]\n",
            " [1.00000000e+000 3.76142085e-040]\n",
            " [1.00000000e+000 2.37355223e-024]\n",
            " [1.00000000e+000 7.35043033e-038]\n",
            " [1.00000000e+000 7.94098013e-020]\n",
            " [3.61098528e-001 6.38901472e-001]\n",
            " [3.58986004e-087 1.00000000e+000]\n",
            " [2.27593513e-081 1.00000000e+000]\n",
            " [1.96545938e-109 1.00000000e+000]\n",
            " [5.36516735e-092 1.00000000e+000]]\n",
            "---------------------------\n",
            "> 1.2. M-STEP...\n",
            "\n",
            ">> Updated Means:\n",
            "[[3.50776852 5.93264468]\n",
            " [6.50897794 3.49102206]]\n",
            "\n",
            ">> Updated Covariances:\n",
            "[[[ 0.3846503  -0.10050973]\n",
            "  [-0.10050973  1.92810794]]\n",
            "\n",
            " [[ 1.38764629  0.98360477]\n",
            "  [ 0.98360477  2.2499194 ]]]\n",
            "\n",
            ">> Updated Density:\n",
            "[0.53610985 0.46389015]\n",
            "========================\n",
            "\n",
            "\n",
            "========================\n",
            "ITERATION [2]\n",
            "========================\n",
            "---------------------------\n",
            "> 2.1. E-STEP...\n",
            "\n",
            ">> Log Likelihood: -35.37786637271427\n",
            "\n",
            ">> Responsibility:\n",
            "[[9.99999997e-01 3.18706700e-09]\n",
            " [9.99997303e-01 2.69664999e-06]\n",
            " [9.98580100e-01 1.41989962e-03]\n",
            " [9.99987181e-01 1.28188320e-05]\n",
            " [9.97396219e-01 2.60378108e-03]\n",
            " [6.62493660e-01 3.37506340e-01]\n",
            " [2.09940597e-03 9.97900594e-01]\n",
            " [2.16316237e-07 9.99999784e-01]\n",
            " [1.21004730e-07 9.99999879e-01]\n",
            " [1.88325233e-11 1.00000000e+00]]\n",
            "---------------------------\n",
            "> 2.2. M-STEP...\n",
            "\n",
            ">> Updated Means:\n",
            "[[3.58767583 5.88206796]\n",
            " [6.61185042 3.3885054 ]]\n",
            "\n",
            ">> Updated Covariances:\n",
            "[[[ 0.47712921 -0.16801964]\n",
            "  [-0.16801964  1.87754721]]\n",
            "\n",
            " [[ 1.32140316  1.21547068]\n",
            "  [ 1.21547068  2.23501155]]]\n",
            "\n",
            ">> Updated Density:\n",
            "[0.56605542 0.43394458]\n",
            "========================\n",
            "\n",
            "\n",
            "========================\n",
            "ITERATION [3]\n",
            "========================\n",
            "---------------------------\n",
            "> 3.1. E-STEP...\n",
            "\n",
            ">> Log Likelihood: -34.34455081647011\n",
            "\n",
            ">> Responsibility:\n",
            "[[1.00000000e+00 9.59019218e-15]\n",
            " [9.99999999e-01 8.68054017e-10]\n",
            " [9.99980260e-01 1.97404827e-05]\n",
            " [9.99999992e-01 7.67130176e-09]\n",
            " [9.99954488e-01 4.55119561e-05]\n",
            " [9.75133195e-01 2.48668053e-02]\n",
            " [4.09069904e-03 9.95909301e-01]\n",
            " [8.19510470e-06 9.99991805e-01]\n",
            " [5.33451614e-06 9.99994665e-01]\n",
            " [4.51808423e-09 9.99999995e-01]]\n",
            "---------------------------\n",
            "> 3.2. M-STEP...\n",
            "\n",
            ">> Updated Means:\n",
            "[[3.66204088 5.83349968]\n",
            " [6.74090715 3.26313427]]\n",
            "\n",
            ">> Updated Covariances:\n",
            "[[[ 0.55131489 -0.22280228]\n",
            "  [-0.22280228  1.82493495]]\n",
            "\n",
            " [[ 1.19724484  1.53151114]\n",
            "  [ 1.53151114  2.18982205]]]\n",
            "\n",
            ">> Updated Density:\n",
            "[0.59791722 0.40208278]\n",
            "========================\n",
            "\n"
          ]
        }
      ]
    },
    {
      "cell_type": "code",
      "source": [
        "print('New Values:\\n============')\n",
        "print(f'\\nMeans: \\n{means}')\n",
        "print(f'\\nCovariances: \\n{covariance}')\n",
        "print(f'\\nDensity: {density}')"
      ],
      "metadata": {
        "colab": {
          "base_uri": "https://localhost:8080/"
        },
        "id": "ktdvLEapKdb3",
        "outputId": "536e6216-8d94-486d-b5d7-11cf7f0982ea"
      },
      "execution_count": null,
      "outputs": [
        {
          "output_type": "stream",
          "name": "stdout",
          "text": [
            "New Values:\n",
            "============\n",
            "\n",
            "Means: \n",
            "[[3.66204088 5.83349968]\n",
            " [6.74090715 3.26313427]]\n",
            "\n",
            "Covariances: \n",
            "[[[ 0.55131489 -0.22280228]\n",
            "  [-0.22280228  1.82493495]]\n",
            "\n",
            " [[ 1.19724484  1.53151114]\n",
            "  [ 1.53151114  2.18982205]]]\n",
            "\n",
            "Density: [0.59791722 0.40208278]\n"
          ]
        }
      ]
    },
    {
      "cell_type": "code",
      "source": [
        "labels = []\n",
        "\n",
        "for i in range(len(responsibility)):\n",
        "  if(responsibility[i][0] >= responsibility[i][1]):\n",
        "    labels.append(0)\n",
        "  else:\n",
        "    labels.append(1)\n",
        "\n",
        "labels"
      ],
      "metadata": {
        "colab": {
          "base_uri": "https://localhost:8080/"
        },
        "id": "AgH3QSFhHMjd",
        "outputId": "05e5fdd9-ab25-44ba-8140-15b2bd995c9e"
      },
      "execution_count": null,
      "outputs": [
        {
          "output_type": "execute_result",
          "data": {
            "text/plain": [
              "[0, 0, 0, 0, 0, 0, 1, 1, 1, 1]"
            ]
          },
          "metadata": {},
          "execution_count": 7
        }
      ]
    },
    {
      "cell_type": "code",
      "source": [
        "df = pd.DataFrame({'x1':X[:, 0], 'x2':X[:, 1], 'Class (y)':labels})\n",
        "\n",
        "plt.figure(figsize=(10, 10))\n",
        "plt.grid()\n",
        "sns.scatterplot(x='x1', y='x2', hue='Class (y)', data=df, s=50)\n",
        "\n",
        "plt.plot(means[0][0], means[0][1], marker='+', markersize=10, label='Mean(0)')\n",
        "plt.plot(means[1][0], means[1][1], marker='+', markersize=10, label='Mean(1)')\n",
        "\n",
        "plt.xlim(0, 10)\n",
        "plt.ylim(0, 10)\n",
        "plt.legend()\n",
        "\n",
        "plt.xticks(np.arange(0, 11))\n",
        "plt.yticks(np.arange(0, 11))\n",
        "plt.title(\"Cluster Possibility with 3 Iterations using GMM\")\n",
        "plt.show()"
      ],
      "metadata": {
        "colab": {
          "base_uri": "https://localhost:8080/",
          "height": 621
        },
        "id": "LTZr4jdFIvPS",
        "outputId": "c07d5815-6b73-4d7b-ffaf-490728bd4003"
      },
      "execution_count": null,
      "outputs": [
        {
          "output_type": "display_data",
          "data": {
            "text/plain": [
              "<Figure size 720x720 with 1 Axes>"
            ],
            "image/png": "[encoded data removed]"
          },
          "metadata": {
            "needs_background": "light"
          }
        }
      ]
    }
  ]
}